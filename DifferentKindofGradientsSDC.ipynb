{
  "nbformat": 4,
  "nbformat_minor": 0,
  "metadata": {
    "colab": {
      "name": "DifferentKindofGradientsSDC.ipynb",
      "version": "0.3.2",
      "provenance": [],
      "include_colab_link": true
    },
    "kernelspec": {
      "name": "python3",
      "display_name": "Python 3"
    }
  },
  "cells": [
    {
      "cell_type": "markdown",
      "metadata": {
        "id": "view-in-github",
        "colab_type": "text"
      },
      "source": [
        "<a href=\"https://colab.research.google.com/github/bhadreshpsavani/KPIT_Udacity_Scholarship/blob/master/DifferentKindofGradientsSDC.ipynb\" target=\"_parent\"><img src=\"https://colab.research.google.com/assets/colab-badge.svg\" alt=\"Open In Colab\"/></a>"
      ]
    },
    {
      "metadata": {
        "id": "54GcUg4xqox9",
        "colab_type": "code",
        "colab": {}
      },
      "cell_type": "code",
      "source": [
        ""
      ],
      "execution_count": 0,
      "outputs": []
    },
    {
      "metadata": {
        "id": "VIa8XrK2p2eo",
        "colab_type": "code",
        "colab": {}
      },
      "cell_type": "code",
      "source": [
        "def abs_sobel_thresh(img, orient='x', sobel_kernel=3, thresh=(0, 255)):\n",
        "    # Calculate directional gradient\n",
        "    # Apply threshold\n",
        "    return grad_binary\n",
        "\n",
        "def mag_thresh(image, sobel_kernel=3, mag_thresh=(0, 255)):\n",
        "    # Calculate gradient magnitude\n",
        "    # Apply threshold\n",
        "    return mag_binary\n",
        "\n",
        "def dir_threshold(image, sobel_kernel=3, thresh=(0, np.pi/2)):\n",
        "    # Calculate gradient direction\n",
        "    # Apply threshold\n",
        "    return dir_binary\n",
        "\n",
        "# Choose a Sobel kernel size\n",
        "ksize = 3 # Choose a larger odd number to smooth gradient measurements\n",
        "\n",
        "# Apply each of the thresholding functions\n",
        "gradx = abs_sobel_thresh(image, orient='x', sobel_kernel=ksize, thresh=(0, 255))\n",
        "grady = abs_sobel_thresh(image, orient='y', sobel_kernel=ksize, thresh=(0, 255))\n",
        "mag_binary = mag_thresh(image, sobel_kernel=ksize, mag_thresh=(0, 255))\n",
        "dir_binary = dir_threshold(image, sobel_kernel=ksize, thresh=(0, np.pi/2))"
      ],
      "execution_count": 0,
      "outputs": []
    }
  ]
}